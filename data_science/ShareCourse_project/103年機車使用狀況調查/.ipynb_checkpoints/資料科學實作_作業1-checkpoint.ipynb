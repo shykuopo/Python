{
 "cells": [
  {
   "cell_type": "markdown",
   "metadata": {},
   "source": [
    "## 資料擷取與匯入-CSV"
   ]
  },
  {
   "cell_type": "code",
   "execution_count": 1,
   "metadata": {
    "collapsed": true
   },
   "outputs": [],
   "source": [
    "import pandas as pd\n",
    "\n",
    "df1 = pd.read_csv(\"103opendata.csv\",encoding = \"big5\")\n",
    "del df1['A12A'],df1['A12B'],df1['A12B1'],df1['A12B2A'],df1['A12B2B'],df1['A12B2C'],df1['A12B2C2'],df1['A12B3A'],df1['A12B3B'],df1['A12B3C'],df1['A12B3C2'],df1['A12C']\n",
    "#df1[:20]"
   ]
  },
  {
   "cell_type": "markdown",
   "metadata": {},
   "source": [
    "## 資料預處理-轉換"
   ]
  },
  {
   "cell_type": "code",
   "execution_count": 2,
   "metadata": {
    "collapsed": true
   },
   "outputs": [],
   "source": [
    "bins=[0,50,250,550,1500]  #將機車以cc數分級 S=small,N=normal,Y=yellow,R=red\n",
    "labels=['S','N','Y','R']\n",
    "df1['label'] = pd.cut(df1['cc'],bins,right=False,labels=labels)\n",
    "#df1[:20]"
   ]
  },
  {
   "cell_type": "markdown",
   "metadata": {},
   "source": [
    "## 資料聚合與樞紐分析-樞紐分析"
   ]
  },
  {
   "cell_type": "code",
   "execution_count": 3,
   "metadata": {},
   "outputs": [
    {
     "data": {
      "text/html": [
       "<div>\n",
       "<style>\n",
       "    .dataframe thead tr:only-child th {\n",
       "        text-align: right;\n",
       "    }\n",
       "\n",
       "    .dataframe thead th {\n",
       "        text-align: left;\n",
       "    }\n",
       "\n",
       "    .dataframe tbody tr th {\n",
       "        vertical-align: top;\n",
       "    }\n",
       "</style>\n",
       "<table border=\"1\" class=\"dataframe\">\n",
       "  <thead>\n",
       "    <tr style=\"text-align: right;\">\n",
       "      <th>地區</th>\n",
       "      <th>中部地區</th>\n",
       "      <th>北部地區</th>\n",
       "      <th>南部地區</th>\n",
       "      <th>東部地區</th>\n",
       "      <th>金馬地區</th>\n",
       "    </tr>\n",
       "    <tr>\n",
       "      <th>機車量級</th>\n",
       "      <th></th>\n",
       "      <th></th>\n",
       "      <th></th>\n",
       "      <th></th>\n",
       "      <th></th>\n",
       "    </tr>\n",
       "  </thead>\n",
       "  <tbody>\n",
       "    <tr>\n",
       "      <th>N</th>\n",
       "      <td>5.736527</td>\n",
       "      <td>5.529859</td>\n",
       "      <td>5.878598</td>\n",
       "      <td>5.567901</td>\n",
       "      <td>5.000000</td>\n",
       "    </tr>\n",
       "    <tr>\n",
       "      <th>R</th>\n",
       "      <td>2.294118</td>\n",
       "      <td>2.474164</td>\n",
       "      <td>2.504587</td>\n",
       "      <td>2.166667</td>\n",
       "      <td>4.000000</td>\n",
       "    </tr>\n",
       "    <tr>\n",
       "      <th>S</th>\n",
       "      <td>4.923944</td>\n",
       "      <td>4.737194</td>\n",
       "      <td>5.167347</td>\n",
       "      <td>4.562500</td>\n",
       "      <td>5.222222</td>\n",
       "    </tr>\n",
       "    <tr>\n",
       "      <th>Y</th>\n",
       "      <td>3.992754</td>\n",
       "      <td>4.012658</td>\n",
       "      <td>3.542636</td>\n",
       "      <td>4.095238</td>\n",
       "      <td>5.000000</td>\n",
       "    </tr>\n",
       "  </tbody>\n",
       "</table>\n",
       "</div>"
      ],
      "text/plain": [
       "地區        中部地區      北部地區      南部地區      東部地區      金馬地區\n",
       "機車量級                                                  \n",
       "N     5.736527  5.529859  5.878598  5.567901  5.000000\n",
       "R     2.294118  2.474164  2.504587  2.166667  4.000000\n",
       "S     4.923944  4.737194  5.167347  4.562500  5.222222\n",
       "Y     3.992754  4.012658  3.542636  4.095238  5.000000"
      ]
     },
     "execution_count": 3,
     "metadata": {},
     "output_type": "execute_result"
    }
   ],
   "source": [
    "df2 =df1\n",
    "df2=df2.rename(columns={'F9_area':'地區','label':'機車量級'})\n",
    "\n",
    "to_area={1:'北部地區',2:'中部地區',3:'南部地區',4:'東部地區',5:'金馬地區'}\n",
    "df2['地區'] = df2['地區'].map(to_area)\n",
    "\n",
    "# 在各縣市當中，不同CC數的騎士，平均每星期使用幾天\n",
    "df2.pivot_table(values=\"B8A\",index=['機車量級'],columns='地區',aggfunc=\"mean\")\n",
    "\n",
    "#df2[:20]"
   ]
  },
  {
   "cell_type": "code",
   "execution_count": 4,
   "metadata": {},
   "outputs": [
    {
     "data": {
      "text/html": [
       "<div>\n",
       "<style>\n",
       "    .dataframe thead tr:only-child th {\n",
       "        text-align: right;\n",
       "    }\n",
       "\n",
       "    .dataframe thead th {\n",
       "        text-align: left;\n",
       "    }\n",
       "\n",
       "    .dataframe tbody tr th {\n",
       "        vertical-align: top;\n",
       "    }\n",
       "</style>\n",
       "<table border=\"1\" class=\"dataframe\">\n",
       "  <thead>\n",
       "    <tr style=\"text-align: right;\">\n",
       "      <th>地區</th>\n",
       "      <th>中部地區</th>\n",
       "      <th>北部地區</th>\n",
       "      <th>南部地區</th>\n",
       "      <th>東部地區</th>\n",
       "      <th>金馬地區</th>\n",
       "    </tr>\n",
       "    <tr>\n",
       "      <th>機車量級</th>\n",
       "      <th></th>\n",
       "      <th></th>\n",
       "      <th></th>\n",
       "      <th></th>\n",
       "      <th></th>\n",
       "    </tr>\n",
       "  </thead>\n",
       "  <tbody>\n",
       "    <tr>\n",
       "      <th>N</th>\n",
       "      <td>2.020267</td>\n",
       "      <td>1.883822</td>\n",
       "      <td>2.146863</td>\n",
       "      <td>2.117284</td>\n",
       "      <td>2.285714</td>\n",
       "    </tr>\n",
       "    <tr>\n",
       "      <th>R</th>\n",
       "      <td>1.375000</td>\n",
       "      <td>1.398176</td>\n",
       "      <td>1.330275</td>\n",
       "      <td>1.291667</td>\n",
       "      <td>0.000000</td>\n",
       "    </tr>\n",
       "    <tr>\n",
       "      <th>S</th>\n",
       "      <td>1.808451</td>\n",
       "      <td>1.710468</td>\n",
       "      <td>1.861224</td>\n",
       "      <td>1.375000</td>\n",
       "      <td>2.222222</td>\n",
       "    </tr>\n",
       "    <tr>\n",
       "      <th>Y</th>\n",
       "      <td>1.782609</td>\n",
       "      <td>1.726582</td>\n",
       "      <td>1.720930</td>\n",
       "      <td>2.000000</td>\n",
       "      <td>2.500000</td>\n",
       "    </tr>\n",
       "  </tbody>\n",
       "</table>\n",
       "</div>"
      ],
      "text/plain": [
       "地區        中部地區      北部地區      南部地區      東部地區      金馬地區\n",
       "機車量級                                                  \n",
       "N     2.020267  1.883822  2.146863  2.117284  2.285714\n",
       "R     1.375000  1.398176  1.330275  1.291667  0.000000\n",
       "S     1.808451  1.710468  1.861224  1.375000  2.222222\n",
       "Y     1.782609  1.726582  1.720930  2.000000  2.500000"
      ]
     },
     "execution_count": 4,
     "metadata": {},
     "output_type": "execute_result"
    }
   ],
   "source": [
    "# 在各縣市當中，不同CC數的騎士，一天平均使用幾次機車(來回算一次)\n",
    "df2.pivot_table(values=\"B8B\",index=['機車量級'],columns='地區',aggfunc=\"mean\")"
   ]
  },
  {
   "cell_type": "code",
   "execution_count": 5,
   "metadata": {},
   "outputs": [
    {
     "data": {
      "text/html": [
       "<div>\n",
       "<style>\n",
       "    .dataframe thead tr:only-child th {\n",
       "        text-align: right;\n",
       "    }\n",
       "\n",
       "    .dataframe thead th {\n",
       "        text-align: left;\n",
       "    }\n",
       "\n",
       "    .dataframe tbody tr th {\n",
       "        vertical-align: top;\n",
       "    }\n",
       "</style>\n",
       "<table border=\"1\" class=\"dataframe\">\n",
       "  <thead>\n",
       "    <tr style=\"text-align: right;\">\n",
       "      <th>地區</th>\n",
       "      <th>中部地區</th>\n",
       "      <th>北部地區</th>\n",
       "      <th>南部地區</th>\n",
       "      <th>東部地區</th>\n",
       "      <th>金馬地區</th>\n",
       "    </tr>\n",
       "    <tr>\n",
       "      <th>機車量級</th>\n",
       "      <th></th>\n",
       "      <th></th>\n",
       "      <th></th>\n",
       "      <th></th>\n",
       "      <th></th>\n",
       "    </tr>\n",
       "  </thead>\n",
       "  <tbody>\n",
       "    <tr>\n",
       "      <th>N</th>\n",
       "      <td>2.081990</td>\n",
       "      <td>1.869164</td>\n",
       "      <td>2.164945</td>\n",
       "      <td>1.907407</td>\n",
       "      <td>1.767857</td>\n",
       "    </tr>\n",
       "    <tr>\n",
       "      <th>R</th>\n",
       "      <td>2.345588</td>\n",
       "      <td>2.319149</td>\n",
       "      <td>2.642202</td>\n",
       "      <td>2.666667</td>\n",
       "      <td>3.000000</td>\n",
       "    </tr>\n",
       "    <tr>\n",
       "      <th>S</th>\n",
       "      <td>2.050704</td>\n",
       "      <td>1.797327</td>\n",
       "      <td>1.957143</td>\n",
       "      <td>1.625000</td>\n",
       "      <td>1.555556</td>\n",
       "    </tr>\n",
       "    <tr>\n",
       "      <th>Y</th>\n",
       "      <td>2.202899</td>\n",
       "      <td>2.268354</td>\n",
       "      <td>2.534884</td>\n",
       "      <td>2.095238</td>\n",
       "      <td>1.500000</td>\n",
       "    </tr>\n",
       "  </tbody>\n",
       "</table>\n",
       "</div>"
      ],
      "text/plain": [
       "地區        中部地區      北部地區      南部地區      東部地區      金馬地區\n",
       "機車量級                                                  \n",
       "N     2.081990  1.869164  2.164945  1.907407  1.767857\n",
       "R     2.345588  2.319149  2.642202  2.666667  3.000000\n",
       "S     2.050704  1.797327  1.957143  1.625000  1.555556\n",
       "Y     2.202899  2.268354  2.534884  2.095238  1.500000"
      ]
     },
     "execution_count": 5,
     "metadata": {},
     "output_type": "execute_result"
    }
   ],
   "source": [
    "# 在各縣市當中，不同CC數的騎士，家裡有幾台機車\n",
    "df2.pivot_table(values=\"F7A\",index=['機車量級'],columns='地區',aggfunc=\"mean\")"
   ]
  },
  {
   "cell_type": "code",
   "execution_count": 6,
   "metadata": {
    "collapsed": true
   },
   "outputs": [],
   "source": [
    "to_real={0:0,1:0,2:1,3:2,4:3,5:4}\n",
    "df2['F7B'] = df2['F7B'].map(to_real)"
   ]
  },
  {
   "cell_type": "code",
   "execution_count": 7,
   "metadata": {},
   "outputs": [
    {
     "data": {
      "text/html": [
       "<div>\n",
       "<style>\n",
       "    .dataframe thead tr:only-child th {\n",
       "        text-align: right;\n",
       "    }\n",
       "\n",
       "    .dataframe thead th {\n",
       "        text-align: left;\n",
       "    }\n",
       "\n",
       "    .dataframe tbody tr th {\n",
       "        vertical-align: top;\n",
       "    }\n",
       "</style>\n",
       "<table border=\"1\" class=\"dataframe\">\n",
       "  <thead>\n",
       "    <tr style=\"text-align: right;\">\n",
       "      <th>地區</th>\n",
       "      <th>中部地區</th>\n",
       "      <th>北部地區</th>\n",
       "      <th>南部地區</th>\n",
       "      <th>東部地區</th>\n",
       "      <th>金馬地區</th>\n",
       "    </tr>\n",
       "    <tr>\n",
       "      <th>機車量級</th>\n",
       "      <th></th>\n",
       "      <th></th>\n",
       "      <th></th>\n",
       "      <th></th>\n",
       "      <th></th>\n",
       "    </tr>\n",
       "  </thead>\n",
       "  <tbody>\n",
       "    <tr>\n",
       "      <th>N</th>\n",
       "      <td>0.909258</td>\n",
       "      <td>0.696254</td>\n",
       "      <td>0.785978</td>\n",
       "      <td>0.882716</td>\n",
       "      <td>0.678571</td>\n",
       "    </tr>\n",
       "    <tr>\n",
       "      <th>R</th>\n",
       "      <td>1.235294</td>\n",
       "      <td>1.221884</td>\n",
       "      <td>1.302752</td>\n",
       "      <td>1.416667</td>\n",
       "      <td>1.000000</td>\n",
       "    </tr>\n",
       "    <tr>\n",
       "      <th>S</th>\n",
       "      <td>0.954930</td>\n",
       "      <td>0.677060</td>\n",
       "      <td>0.702041</td>\n",
       "      <td>0.750000</td>\n",
       "      <td>0.777778</td>\n",
       "    </tr>\n",
       "    <tr>\n",
       "      <th>Y</th>\n",
       "      <td>1.246377</td>\n",
       "      <td>1.007595</td>\n",
       "      <td>1.015504</td>\n",
       "      <td>0.952381</td>\n",
       "      <td>0.500000</td>\n",
       "    </tr>\n",
       "  </tbody>\n",
       "</table>\n",
       "</div>"
      ],
      "text/plain": [
       "地區        中部地區      北部地區      南部地區      東部地區      金馬地區\n",
       "機車量級                                                  \n",
       "N     0.909258  0.696254  0.785978  0.882716  0.678571\n",
       "R     1.235294  1.221884  1.302752  1.416667  1.000000\n",
       "S     0.954930  0.677060  0.702041  0.750000  0.777778\n",
       "Y     1.246377  1.007595  1.015504  0.952381  0.500000"
      ]
     },
     "execution_count": 7,
     "metadata": {},
     "output_type": "execute_result"
    }
   ],
   "source": [
    "# 在各縣市當中，不同CC數的騎士，家裡有幾台汽車\n",
    "#print(df2['F7B'])\n",
    "df2.pivot_table(values='F7B',index=['機車量級'],columns='地區',aggfunc=\"mean\")"
   ]
  },
  {
   "cell_type": "markdown",
   "metadata": {},
   "source": [
    "## 資料分析方法-描述性統計"
   ]
  },
  {
   "cell_type": "code",
   "execution_count": 8,
   "metadata": {},
   "outputs": [
    {
     "data": {
      "text/plain": [
       "count     11409.000000\n",
       "mean      31973.442019\n",
       "std       23826.587138\n",
       "min           0.000000\n",
       "25%       10000.000000\n",
       "50%       30000.000000\n",
       "75%       40000.000000\n",
       "max      500000.000000\n",
       "Name: 薪水, dtype: float64"
      ]
     },
     "execution_count": 8,
     "metadata": {},
     "output_type": "execute_result"
    }
   ],
   "source": [
    "import pandas as pd\n",
    "import numpy as np\n",
    "import matplotlib.pyplot as plt\n",
    "%matplotlib inline\n",
    "plt.rcParams['font.family']='DFKai-SB' \n",
    "\n",
    "df3=pd.DataFrame({'薪水1':df1['F6'],'薪水2':df1['F6O']})\n",
    "\n",
    "to_Num={0:0,1:5000,2:10000,3:20000,4:30000,5:40000,6:50000,7:60000,8:70000,9:0}\n",
    "df3['薪水1'] = df3['薪水1'].map(to_Num)\n",
    "df3['薪水'] = df3['薪水1']+df3['薪水2']*10000\n",
    "\n",
    "df3['薪水'].describe()"
   ]
  },
  {
   "cell_type": "markdown",
   "metadata": {},
   "source": [
    "## 資料分析方法-相關性分析"
   ]
  },
  {
   "cell_type": "code",
   "execution_count": 9,
   "metadata": {},
   "outputs": [
    {
     "data": {
      "text/html": [
       "<div>\n",
       "<style>\n",
       "    .dataframe thead tr:only-child th {\n",
       "        text-align: right;\n",
       "    }\n",
       "\n",
       "    .dataframe thead th {\n",
       "        text-align: left;\n",
       "    }\n",
       "\n",
       "    .dataframe tbody tr th {\n",
       "        vertical-align: top;\n",
       "    }\n",
       "</style>\n",
       "<table border=\"1\" class=\"dataframe\">\n",
       "  <thead>\n",
       "    <tr style=\"text-align: right;\">\n",
       "      <th></th>\n",
       "      <th>平均每日機車使用次數</th>\n",
       "      <th>年齡</th>\n",
       "      <th>擁有機車數</th>\n",
       "      <th>擁有汽車數</th>\n",
       "      <th>機車量級</th>\n",
       "      <th>薪水</th>\n",
       "    </tr>\n",
       "  </thead>\n",
       "  <tbody>\n",
       "    <tr>\n",
       "      <th>平均每日機車使用次數</th>\n",
       "      <td>1.000000</td>\n",
       "      <td>-0.032005</td>\n",
       "      <td>0.013330</td>\n",
       "      <td>-0.020626</td>\n",
       "      <td>-0.109481</td>\n",
       "      <td>-0.035829</td>\n",
       "    </tr>\n",
       "    <tr>\n",
       "      <th>年齡</th>\n",
       "      <td>-0.032005</td>\n",
       "      <td>1.000000</td>\n",
       "      <td>0.061974</td>\n",
       "      <td>0.046542</td>\n",
       "      <td>-0.034412</td>\n",
       "      <td>-0.061140</td>\n",
       "    </tr>\n",
       "    <tr>\n",
       "      <th>擁有機車數</th>\n",
       "      <td>0.013330</td>\n",
       "      <td>0.061974</td>\n",
       "      <td>1.000000</td>\n",
       "      <td>0.325580</td>\n",
       "      <td>0.084420</td>\n",
       "      <td>0.046548</td>\n",
       "    </tr>\n",
       "    <tr>\n",
       "      <th>擁有汽車數</th>\n",
       "      <td>-0.020626</td>\n",
       "      <td>0.046542</td>\n",
       "      <td>0.325580</td>\n",
       "      <td>1.000000</td>\n",
       "      <td>0.146683</td>\n",
       "      <td>0.145300</td>\n",
       "    </tr>\n",
       "    <tr>\n",
       "      <th>機車量級</th>\n",
       "      <td>-0.109481</td>\n",
       "      <td>-0.034412</td>\n",
       "      <td>0.084420</td>\n",
       "      <td>0.146683</td>\n",
       "      <td>1.000000</td>\n",
       "      <td>0.207761</td>\n",
       "    </tr>\n",
       "    <tr>\n",
       "      <th>薪水</th>\n",
       "      <td>-0.035829</td>\n",
       "      <td>-0.061140</td>\n",
       "      <td>0.046548</td>\n",
       "      <td>0.145300</td>\n",
       "      <td>0.207761</td>\n",
       "      <td>1.000000</td>\n",
       "    </tr>\n",
       "  </tbody>\n",
       "</table>\n",
       "</div>"
      ],
      "text/plain": [
       "            平均每日機車使用次數        年齡     擁有機車數     擁有汽車數      機車量級        薪水\n",
       "平均每日機車使用次數    1.000000 -0.032005  0.013330 -0.020626 -0.109481 -0.035829\n",
       "年齡           -0.032005  1.000000  0.061974  0.046542 -0.034412 -0.061140\n",
       "擁有機車數         0.013330  0.061974  1.000000  0.325580  0.084420  0.046548\n",
       "擁有汽車數        -0.020626  0.046542  0.325580  1.000000  0.146683  0.145300\n",
       "機車量級         -0.109481 -0.034412  0.084420  0.146683  1.000000  0.207761\n",
       "薪水           -0.035829 -0.061140  0.046548  0.145300  0.207761  1.000000"
      ]
     },
     "execution_count": 9,
     "metadata": {},
     "output_type": "execute_result"
    }
   ],
   "source": [
    "import pandas as pd\n",
    "import numpy as np\n",
    "import matplotlib.pyplot as plt\n",
    "%matplotlib inline\n",
    "plt.rcParams['font.family']='DFKai-SB' \n",
    "\n",
    "df4=pd.DataFrame({'薪水':df3['薪水'],'擁有機車數':df1['F7A'],'機車量級':df1['cc'],'平均每日機車使用次數':df1['B8B'],'擁有汽車數':df2['F7B'],'年齡':df1['F3']})\n",
    "df4.corr()"
   ]
  },
  {
   "cell_type": "code",
   "execution_count": 10,
   "metadata": {},
   "outputs": [
    {
     "data": {
      "text/plain": [
       "<matplotlib.axes._subplots.AxesSubplot at 0x2ca18b7c978>"
      ]
     },
     "execution_count": 10,
     "metadata": {},
     "output_type": "execute_result"
    },
    {
     "data": {
      "image/png": "[encoded data removed]",
      "text/plain": [
       "<matplotlib.figure.Figure at 0x2ca18b57c50>"
      ]
     },
     "metadata": {},
     "output_type": "display_data"
    }
   ],
   "source": [
    "df4.plot(kind='scatter',title='散佈圖（低度正相關）',figsize=(6,4),x='薪水',y='機車量級',marker='+')\n",
    "#因問卷型式的資料內容參差不齊，在做相關性分析會影響相關性"
   ]
  },
  {
   "cell_type": "markdown",
   "metadata": {},
   "source": [
    "## 資料分析方法-購物籃分析"
   ]
  },
  {
   "cell_type": "code",
   "execution_count": 11,
   "metadata": {
    "collapsed": true
   },
   "outputs": [],
   "source": [
    "df5=pd.DataFrame({'每星期使用幾天':df1['B4'],'平均一天使用多少公里':df1['B6']})\n",
    "df6=pd.DataFrame({'機車等級':df1['label']})\n",
    "#df5[:10]"
   ]
  },
  {
   "cell_type": "code",
   "execution_count": 12,
   "metadata": {
    "collapsed": true
   },
   "outputs": [],
   "source": [
    "bins1=[0,3,8]  #0=沒使用 3=使用兩天 8=使用7天\n",
    "bins2=[0,3,5,8,9] #3=小於5公里 5=小於15公里 8=小於40公里 9=大於40公里\n",
    "\n",
    "labels1=['F','U']  #F=few(0~2天) U=usually(3~7天)\n",
    "labels2=['less_5','less_15','less_40','higher_40'] # ~5公里; 5~15公里; 15~40公里; 40~公里\n",
    "\n",
    "df6['使用頻率'] = pd.cut(df5['每星期使用幾天'],bins1,right=True,labels=labels1)\n",
    "df6['使用距離'] = pd.cut(df5['平均一天使用多少公里'],bins2,right=True,labels=labels2)\n",
    "#df6[:10]"
   ]
  },
  {
   "cell_type": "code",
   "execution_count": 13,
   "metadata": {},
   "outputs": [
    {
     "name": "stdout",
     "output_type": "stream",
     "text": [
      "item: ('less_5',) , 0.307\n",
      "item: ('less_40',) , 0.315\n",
      "item: ('U', 'N') , 0.659\n",
      "item: ('N',) , 0.774\n",
      "item: ('U',) , 0.787\n",
      "\n",
      "------------------------ RULES:\n",
      "Rule: ('U',) ==> ('N',) , 0.837\n",
      "Rule: ('N',) ==> ('U',) , 0.851\n"
     ]
    }
   ],
   "source": [
    "df6[:5000].to_csv(\"basketAnalysis.csv\")  #因運算時間關係，只取樣到5000個數據\n",
    "!python apriori.py -f basketAnalysis.csv -s 0.3 -c 0.5"
   ]
  },
  {
   "cell_type": "markdown",
   "metadata": {
    "collapsed": true
   },
   "source": [
    "## 視覺化-圓餅圖"
   ]
  },
  {
   "cell_type": "code",
   "execution_count": 14,
   "metadata": {},
   "outputs": [
    {
     "data": {
      "image/png": "[encoded data removed]",
      "text/plain": [
       "<matplotlib.figure.Figure at 0x2ca1a56c9e8>"
      ]
     },
     "metadata": {},
     "output_type": "display_data"
    }
   ],
   "source": [
    "import matplotlib.pyplot as plt\n",
    "import pandas as pd\n",
    "import numpy as np\n",
    "plt.style.use('ggplot')\n",
    "\n",
    "%matplotlib inline\n",
    "plt.rcParams['font.family']='DFKai-SB' \n",
    "\n",
    "#計算機車各使用地區之數量\n",
    "A=0\n",
    "B=0\n",
    "C=0\n",
    "D=0\n",
    "E=0\n",
    "df7=pd.DataFrame({'機車使用地區':df1['F9_area'],'機車量級':df1['label']})\n",
    "for index,row in enumerate(df7['機車使用地區']):\n",
    "    if row == 1:\n",
    "        A+=1\n",
    "    elif row == 2:\n",
    "        B+=1\n",
    "    elif row == 3:\n",
    "        C+=1\n",
    "    elif row == 4:\n",
    "        D+=1\n",
    "    elif row == 5:\n",
    "        E+=1\n",
    "\n",
    "labels = ['北部地區','中部地區','南部地區','東部地區','金馬地區']\n",
    "y = [A,B,C,D,E]\n",
    "plt.figure(figsize=(4,4))\n",
    "plt.title('各地區機車比例圓餅圖')\n",
    "plt.pie(y,labels=labels)\n",
    "plt.show()\n",
    "#df7[:10]"
   ]
  },
  {
   "cell_type": "markdown",
   "metadata": {},
   "source": [
    "## 視覺化-長條圖"
   ]
  },
  {
   "cell_type": "code",
   "execution_count": 15,
   "metadata": {
    "scrolled": true
   },
   "outputs": [
    {
     "data": {
      "text/plain": [
       "<matplotlib.axes._subplots.AxesSubplot at 0x2ca17e672b0>"
      ]
     },
     "execution_count": 15,
     "metadata": {},
     "output_type": "execute_result"
    },
    {
     "data": {
      "image/png": "[encoded data removed]",
      "text/plain": [
       "<matplotlib.figure.Figure at 0x2ca1a6a8470>"
      ]
     },
     "metadata": {},
     "output_type": "display_data"
    }
   ],
   "source": [
    "#計算機車各量級之數量\n",
    "A=0\n",
    "B=0\n",
    "C=0\n",
    "D=0\n",
    "for index,row in enumerate(df7['機車量級']):\n",
    "    if row == 'S':\n",
    "        A+=1\n",
    "    elif row == 'N':\n",
    "        B+=1\n",
    "    elif row == 'Y':\n",
    "        C+=1\n",
    "    elif row == 'R':\n",
    "        D+=1\n",
    "df8=pd.DataFrame({'機車量級':[A,B,C,D]},index=['輕型(~50cc)','一般重型(50~249cc)','黃牌(250~549cc)','紅牌(550~cc)'])\n",
    "df8.plot(kind='bar',title='機車量級數量分布長條圖',figsize=(6,4),stacked=True)"
   ]
  },
  {
   "cell_type": "markdown",
   "metadata": {},
   "source": [
    "## 基礎機器學習- K-means分群與視覺化"
   ]
  },
  {
   "cell_type": "code",
   "execution_count": 16,
   "metadata": {},
   "outputs": [
    {
     "data": {
      "image/png": "[encoded data removed]",
      "text/plain": [
       "<matplotlib.figure.Figure at 0x2ca1a6de048>"
      ]
     },
     "metadata": {},
     "output_type": "display_data"
    }
   ],
   "source": [
    "from sklearn.cluster import KMeans\n",
    "import numpy as np\n",
    "import matplotlib.pyplot as plt\n",
    "%matplotlib inline\n",
    "plt.style.use('ggplot')\n",
    "plt.rcParams['font.family']='DFKai-SB' \n",
    "\n",
    "df9=pd.DataFrame({'薪水':df3['薪水'],'量級':df1['cc']})\n",
    "\n",
    "df9.薪水 = df9.薪水.astype(float)                   \n",
    "df9.cc = df9.量級.astype(float)              \n",
    "X = df9[['薪水','量級']].values                \n",
    "\n",
    "km = KMeans(n_clusters=4) \n",
    "\n",
    "y_pred = km.fit_predict(X)\n",
    "plt.figure(figsize=(10, 6))\n",
    "plt.xlabel('薪水')\n",
    "plt.ylabel('量級')\n",
    "plt.title('k-means_薪水與量級分布圖')\n",
    "plt.scatter(X[:, 0], X[:, 1], c=y_pred)\n",
    "plt.show()\n",
    "\n",
    "#由於薪水的橫向向度是不連續性的資料，因此容易造成在決定資料群時，是以直向切割資料群\n",
    "#可以發現藍色的資料群最集中，因為以薪水做描述性統計，其平均值落在32000左右\n",
    "\n",
    "#且以量級500作為分界，從紫色-藍色-綠色-黃色，500以上的資料群比例逐漸增多\n",
    "\n",
    "#可發現紫色與藍色的交界介於月薪三萬左右，接近一般家庭個人的薪資水準\n",
    "#可發現藍色與綠色的交界介於月薪六萬左右，接近小康家庭的個人薪資水準\n",
    "#可發現綠色與黃色的交界介於年薪百萬左右，接近較富裕家庭的個人薪資水準\n",
    "#以上三個分界，是相當有現實的實際意義的數據"
   ]
  },
  {
   "cell_type": "markdown",
   "metadata": {
    "collapsed": true
   },
   "source": [
    "## 補充資料"
   ]
  },
  {
   "cell_type": "code",
   "execution_count": 17,
   "metadata": {},
   "outputs": [
    {
     "data": {
      "text/html": [
       "<div>\n",
       "<style>\n",
       "    .dataframe thead tr:only-child th {\n",
       "        text-align: right;\n",
       "    }\n",
       "\n",
       "    .dataframe thead th {\n",
       "        text-align: left;\n",
       "    }\n",
       "\n",
       "    .dataframe tbody tr th {\n",
       "        vertical-align: top;\n",
       "    }\n",
       "</style>\n",
       "<table border=\"1\" class=\"dataframe\">\n",
       "  <thead>\n",
       "    <tr style=\"text-align: right;\">\n",
       "      <th></th>\n",
       "      <th>薪水</th>\n",
       "    </tr>\n",
       "    <tr>\n",
       "      <th>地區</th>\n",
       "      <th></th>\n",
       "    </tr>\n",
       "  </thead>\n",
       "  <tbody>\n",
       "    <tr>\n",
       "      <th>中部地區</th>\n",
       "      <td>29519.457337</td>\n",
       "    </tr>\n",
       "    <tr>\n",
       "      <th>北部地區</th>\n",
       "      <td>35252.974969</td>\n",
       "    </tr>\n",
       "    <tr>\n",
       "      <th>南部地區</th>\n",
       "      <td>29303.400174</td>\n",
       "    </tr>\n",
       "    <tr>\n",
       "      <th>東部地區</th>\n",
       "      <td>31547.085202</td>\n",
       "    </tr>\n",
       "    <tr>\n",
       "      <th>金馬地區</th>\n",
       "      <td>34428.571429</td>\n",
       "    </tr>\n",
       "  </tbody>\n",
       "</table>\n",
       "</div>"
      ],
      "text/plain": [
       "                薪水\n",
       "地區                \n",
       "中部地區  29519.457337\n",
       "北部地區  35252.974969\n",
       "南部地區  29303.400174\n",
       "東部地區  31547.085202\n",
       "金馬地區  34428.571429"
      ]
     },
     "execution_count": 17,
     "metadata": {},
     "output_type": "execute_result"
    }
   ],
   "source": [
    "#各地區平均薪水\n",
    "df10=pd.DataFrame({'地區':df2['地區'],'薪水':df3['薪水']})\n",
    "df10=df10.groupby('地區').mean()\n",
    "df10[:]"
   ]
  },
  {
   "cell_type": "code",
   "execution_count": null,
   "metadata": {
    "collapsed": true
   },
   "outputs": [],
   "source": []
  }
 ],
 "metadata": {
  "kernelspec": {
   "display_name": "Python 3",
   "language": "python",
   "name": "python3"
  },
  "language_info": {
   "codemirror_mode": {
    "name": "ipython",
    "version": 3
   },
   "file_extension": ".py",
   "mimetype": "text/x-python",
   "name": "python",
   "nbconvert_exporter": "python",
   "pygments_lexer": "ipython3",
   "version": "3.6.1"
  }
 },
 "nbformat": 4,
 "nbformat_minor": 2
}
